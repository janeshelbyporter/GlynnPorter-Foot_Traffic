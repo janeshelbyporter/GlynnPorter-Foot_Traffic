{
 "cells": [
  {
   "cell_type": "code",
   "execution_count": 69,
   "metadata": {},
   "outputs": [],
   "source": [
    "# Import basic libraries\n",
    "import pandas as pd\n",
    "import numpy as np"
   ]
  },
  {
   "cell_type": "code",
   "execution_count": 70,
   "metadata": {},
   "outputs": [],
   "source": [
    "# Import data. It is a large dataset, so it is split into two csv files\n",
    "data1 = pd.read_csv('your_data_feb_22_2022_0525pm-part1.csv')\n",
    "data2 = pd.read_csv(\"your_data_feb_22_2022_0525pm-part2.csv\")"
   ]
  },
  {
   "cell_type": "code",
   "execution_count": 71,
   "metadata": {},
   "outputs": [],
   "source": [
    "# Combine the two datasets\n",
    "data = pd.concat([data1, data2], axis=0)"
   ]
  },
  {
   "cell_type": "code",
   "execution_count": 72,
   "metadata": {},
   "outputs": [
    {
     "name": "stdout",
     "output_type": "stream",
     "text": [
      "145321400\n",
      "145321400\n"
     ]
    }
   ],
   "source": [
    "print(data.size)\n",
    "print(data1.size + data2.size)"
   ]
  },
  {
   "cell_type": "code",
   "execution_count": 73,
   "metadata": {},
   "outputs": [],
   "source": [
    "# Drop redundant columns\n",
    "data.drop('sg_g__brands', inplace=True, axis=1)\n",
    "data.drop('sg_g__latitude', inplace=True, axis=1)\n",
    "data.drop('sg_g__longitude', inplace=True, axis=1)\n",
    "data.drop('sg_g__street_address', inplace=True, axis=1)\n",
    "data.drop('sg_g__city', inplace=True, axis=1)\n",
    "data.drop('sg_g__region', inplace=True, axis=1)\n",
    "data.drop('sg_g__postal_code', inplace=True, axis=1)\n",
    "data.drop('sg_g__iso_country_code', inplace=True, axis=1)"
   ]
  },
  {
   "cell_type": "code",
   "execution_count": 74,
   "metadata": {},
   "outputs": [
    {
     "data": {
      "text/plain": [
       "(2076020, 62)"
      ]
     },
     "execution_count": 74,
     "metadata": {},
     "output_type": "execute_result"
    }
   ],
   "source": [
    "data.shape"
   ]
  },
  {
   "cell_type": "code",
   "execution_count": 75,
   "metadata": {},
   "outputs": [],
   "source": [
    "# Drop the rest of the Polygon Data (This data is not useful because it is redundant with the Places dataset)\n",
    "data2 = data.drop([\"sg_g__location_name\",\"sg_g__polygon_wkt\",\"sg_g__polygon_class\",\"sg_g__includes_parking_lot\",\"sg_g__is_synthetic\",\"sg_g__enclosed\",\"sg_g__wkt_area_sq_meters\"], axis=1)"
   ]
  },
  {
   "cell_type": "code",
   "execution_count": 76,
   "metadata": {},
   "outputs": [
    {
     "name": "stdout",
     "output_type": "stream",
     "text": [
      "<class 'pandas.core.frame.DataFrame'>\n",
      "Int64Index: 2076020 entries, 0 to 1010739\n",
      "Data columns (total 55 columns):\n",
      " #   Column                                             Non-Null Count    Dtype  \n",
      "---  ------                                             --------------    -----  \n",
      " 0   date_range_start                                   2072601 non-null  object \n",
      " 1   date_range_end                                     2072601 non-null  object \n",
      " 2   placekey                                           2076020 non-null  object \n",
      " 3   sg_c__parent_placekey                              245362 non-null   object \n",
      " 4   sg_c__location_name                                2067300 non-null  object \n",
      " 5   sg_c__safegraph_brand_ids                          499830 non-null   object \n",
      " 6   sg_c__brands                                       499830 non-null   object \n",
      " 7   sg_c__top_category                                 2061831 non-null  object \n",
      " 8   sg_c__sub_category                                 2044394 non-null  object \n",
      " 9   sg_c__naics_code                                   2061831 non-null  float64\n",
      " 10  sg_c__latitude                                     2067300 non-null  float64\n",
      " 11  sg_c__longitude                                    2067300 non-null  float64\n",
      " 12  sg_c__street_address                               2067300 non-null  object \n",
      " 13  sg_c__city                                         2067300 non-null  object \n",
      " 14  sg_c__region                                       2067300 non-null  object \n",
      " 15  sg_c__postal_code                                  2067300 non-null  float64\n",
      " 16  sg_c__iso_country_code                             2067300 non-null  object \n",
      " 17  sg_c__phone_number                                 1471252 non-null  float64\n",
      " 18  sg_c__open_hours                                   1045445 non-null  object \n",
      " 19  sg_c__category_tags                                357319 non-null   object \n",
      " 20  sg_c__opened_on                                    14454 non-null    object \n",
      " 21  sg_c__closed_on                                    0 non-null        float64\n",
      " 22  sg_c__tracking_closed_since                        2049154 non-null  object \n",
      " 23  sg_c__geometry_type                                2067300 non-null  object \n",
      " 24  sg_wp__parent_placekey                             246412 non-null   object \n",
      " 25  sg_wp__location_name                               2072601 non-null  object \n",
      " 26  sg_wp__street_address                              2072601 non-null  object \n",
      " 27  sg_wp__city                                        2072601 non-null  object \n",
      " 28  sg_wp__region                                      2072601 non-null  object \n",
      " 29  sg_wp__postal_code                                 2072601 non-null  float64\n",
      " 30  sg_wp__iso_country_code                            2072601 non-null  object \n",
      " 31  sg_wp__safegraph_brand_ids                         497953 non-null   object \n",
      " 32  sg_wp__brands                                      497953 non-null   object \n",
      " 33  sg_wp__date_range_start                            2072601 non-null  object \n",
      " 34  sg_wp__date_range_end                              2072601 non-null  object \n",
      " 35  sg_wp__raw_visit_counts                            2072601 non-null  float64\n",
      " 36  sg_wp__raw_visitor_counts                          2072601 non-null  float64\n",
      " 37  sg_wp__visits_by_day                               2072601 non-null  object \n",
      " 38  sg_wp__visits_by_each_hour                         2072601 non-null  object \n",
      " 39  sg_wp__poi_cbg                                     2072601 non-null  float64\n",
      " 40  sg_wp__visitor_home_cbgs                           2072601 non-null  object \n",
      " 41  sg_wp__visitor_home_aggregation                    2072601 non-null  object \n",
      " 42  sg_wp__visitor_daytime_cbgs                        2072601 non-null  object \n",
      " 43  sg_wp__visitor_country_of_origin                   2048163 non-null  object \n",
      " 44  sg_wp__distance_from_home                          1507470 non-null  float64\n",
      " 45  sg_wp__median_dwell                                2072601 non-null  float64\n",
      " 46  sg_wp__bucketed_dwell_times                        2072601 non-null  object \n",
      " 47  sg_wp__related_same_day_brand                      2072601 non-null  object \n",
      " 48  sg_wp__related_same_week_brand                     2072601 non-null  object \n",
      " 49  sg_wp__device_type                                 2072601 non-null  object \n",
      " 50  sg_wp__normalized_visits_by_state_scaling          2072601 non-null  float64\n",
      " 51  sg_wp__normalized_visits_by_total_visits           2072601 non-null  float64\n",
      " 52  sg_wp__normalized_visits_by_total_visitors         2072601 non-null  float64\n",
      " 53  sg_wp__normalized_visits_by_region_naics_visits    2072601 non-null  float64\n",
      " 54  sg_wp__normalized_visits_by_region_naics_visitors  2072601 non-null  float64\n",
      "dtypes: float64(17), object(38)\n",
      "memory usage: 887.0+ MB\n"
     ]
    }
   ],
   "source": [
    "# This shows how many null values are in each column \n",
    "data2.info(show_counts = True)"
   ]
  },
  {
   "cell_type": "code",
   "execution_count": 138,
   "metadata": {},
   "outputs": [],
   "source": [
    "df3 =  data2[data.date_range_start.notna()]\n",
    "df3 = df3[df3.sg_c__longitude.notna()]\n",
    "df3 = df3[df3.sg_c__latitude.notna()]"
   ]
  },
  {
   "cell_type": "code",
   "execution_count": 139,
   "metadata": {},
   "outputs": [],
   "source": [
    "# This subsets out Weekly Patterns dataset because the Places dataset contains discrepancies with location name and street address\n",
    "df4 = df3.drop(df3.iloc[:, :9].copy(), axis = 1).copy()\n",
    "df4 = df4.drop(df4.iloc[:, 3:15].copy(), axis = 1).copy()"
   ]
  },
  {
   "cell_type": "code",
   "execution_count": 140,
   "metadata": {},
   "outputs": [
    {
     "name": "stdout",
     "output_type": "stream",
     "text": [
      "<class 'pandas.core.frame.DataFrame'>\n",
      "Int64Index: 2063881 entries, 0 to 1010739\n",
      "Data columns (total 34 columns):\n",
      " #   Column                                             Dtype  \n",
      "---  ------                                             -----  \n",
      " 0   sg_c__naics_code                                   float64\n",
      " 1   sg_c__latitude                                     float64\n",
      " 2   sg_c__longitude                                    float64\n",
      " 3   sg_wp__parent_placekey                             object \n",
      " 4   sg_wp__location_name                               object \n",
      " 5   sg_wp__street_address                              object \n",
      " 6   sg_wp__city                                        object \n",
      " 7   sg_wp__region                                      object \n",
      " 8   sg_wp__postal_code                                 float64\n",
      " 9   sg_wp__iso_country_code                            object \n",
      " 10  sg_wp__safegraph_brand_ids                         object \n",
      " 11  sg_wp__brands                                      object \n",
      " 12  sg_wp__date_range_start                            object \n",
      " 13  sg_wp__date_range_end                              object \n",
      " 14  sg_wp__raw_visit_counts                            float64\n",
      " 15  sg_wp__raw_visitor_counts                          float64\n",
      " 16  sg_wp__visits_by_day                               object \n",
      " 17  sg_wp__visits_by_each_hour                         object \n",
      " 18  sg_wp__poi_cbg                                     float64\n",
      " 19  sg_wp__visitor_home_cbgs                           object \n",
      " 20  sg_wp__visitor_home_aggregation                    object \n",
      " 21  sg_wp__visitor_daytime_cbgs                        object \n",
      " 22  sg_wp__visitor_country_of_origin                   object \n",
      " 23  sg_wp__distance_from_home                          float64\n",
      " 24  sg_wp__median_dwell                                float64\n",
      " 25  sg_wp__bucketed_dwell_times                        object \n",
      " 26  sg_wp__related_same_day_brand                      object \n",
      " 27  sg_wp__related_same_week_brand                     object \n",
      " 28  sg_wp__device_type                                 object \n",
      " 29  sg_wp__normalized_visits_by_state_scaling          float64\n",
      " 30  sg_wp__normalized_visits_by_total_visits           float64\n",
      " 31  sg_wp__normalized_visits_by_total_visitors         float64\n",
      " 32  sg_wp__normalized_visits_by_region_naics_visits    float64\n",
      " 33  sg_wp__normalized_visits_by_region_naics_visitors  float64\n",
      "dtypes: float64(14), object(20)\n",
      "memory usage: 551.1+ MB\n"
     ]
    }
   ],
   "source": [
    "df4.info()"
   ]
  },
  {
   "cell_type": "code",
   "execution_count": 141,
   "metadata": {},
   "outputs": [],
   "source": [
    "# Clean up the column names\n",
    "df4.columns = df4.columns.str.replace('sg_wp__',\"\")"
   ]
  },
  {
   "cell_type": "code",
   "execution_count": 142,
   "metadata": {},
   "outputs": [
    {
     "name": "stdout",
     "output_type": "stream",
     "text": [
      "<class 'pandas.core.frame.DataFrame'>\n",
      "Int64Index: 2063881 entries, 0 to 1010739\n",
      "Data columns (total 34 columns):\n",
      " #   Column                                      Dtype  \n",
      "---  ------                                      -----  \n",
      " 0   sg_c__naics_code                            float64\n",
      " 1   sg_c__latitude                              float64\n",
      " 2   sg_c__longitude                             float64\n",
      " 3   parent_placekey                             object \n",
      " 4   location_name                               object \n",
      " 5   street_address                              object \n",
      " 6   city                                        object \n",
      " 7   region                                      object \n",
      " 8   postal_code                                 float64\n",
      " 9   iso_country_code                            object \n",
      " 10  safegraph_brand_ids                         object \n",
      " 11  brands                                      object \n",
      " 12  date_range_start                            object \n",
      " 13  date_range_end                              object \n",
      " 14  raw_visit_counts                            float64\n",
      " 15  raw_visitor_counts                          float64\n",
      " 16  visits_by_day                               object \n",
      " 17  visits_by_each_hour                         object \n",
      " 18  poi_cbg                                     float64\n",
      " 19  visitor_home_cbgs                           object \n",
      " 20  visitor_home_aggregation                    object \n",
      " 21  visitor_daytime_cbgs                        object \n",
      " 22  visitor_country_of_origin                   object \n",
      " 23  distance_from_home                          float64\n",
      " 24  median_dwell                                float64\n",
      " 25  bucketed_dwell_times                        object \n",
      " 26  related_same_day_brand                      object \n",
      " 27  related_same_week_brand                     object \n",
      " 28  device_type                                 object \n",
      " 29  normalized_visits_by_state_scaling          float64\n",
      " 30  normalized_visits_by_total_visits           float64\n",
      " 31  normalized_visits_by_total_visitors         float64\n",
      " 32  normalized_visits_by_region_naics_visits    float64\n",
      " 33  normalized_visits_by_region_naics_visitors  float64\n",
      "dtypes: float64(14), object(20)\n",
      "memory usage: 551.1+ MB\n"
     ]
    }
   ],
   "source": [
    "df4.info()"
   ]
  },
  {
   "cell_type": "code",
   "execution_count": 143,
   "metadata": {},
   "outputs": [],
   "source": [
    "# Convert string to datetime so it can be plotted\n",
    "df4.date_range_start = pd.to_datetime(df4.date_range_start)\n",
    "df4.date_range_end = pd.to_datetime(df4.date_range_end)"
   ]
  },
  {
   "cell_type": "code",
   "execution_count": 144,
   "metadata": {},
   "outputs": [
    {
     "data": {
      "text/plain": [
       "count      2039538\n",
       "unique        8269\n",
       "top       {\"US\":4}\n",
       "freq        319439\n",
       "Name: visitor_country_of_origin, dtype: object"
      ]
     },
     "execution_count": 144,
     "metadata": {},
     "output_type": "execute_result"
    }
   ],
   "source": [
    "# Data Exploration - I'm trying to see if this is actually null values\n",
    "df4.visitor_country_of_origin.describe()"
   ]
  },
  {
   "cell_type": "code",
   "execution_count": 145,
   "metadata": {},
   "outputs": [
    {
     "data": {
      "text/plain": [
       "count     2063881\n",
       "unique    1204278\n",
       "top            {}\n",
       "freq       433596\n",
       "Name: visitor_home_cbgs, dtype: object"
      ]
     },
     "execution_count": 145,
     "metadata": {},
     "output_type": "execute_result"
    }
   ],
   "source": [
    "# A large amount of the values in this column are {}, so there is missing information. \n",
    "df4.visitor_home_cbgs.describe()"
   ]
  },
  {
   "cell_type": "code",
   "execution_count": 146,
   "metadata": {},
   "outputs": [
    {
     "data": {
      "text/plain": [
       "count     2063881\n",
       "unique    1142690\n",
       "top            {}\n",
       "freq       424454\n",
       "Name: visitor_home_aggregation, dtype: object"
      ]
     },
     "execution_count": 146,
     "metadata": {},
     "output_type": "execute_result"
    }
   ],
   "source": [
    "# The same thing happens in this column, so these two columns are mostly null.\n",
    "df4.visitor_home_aggregation.describe()"
   ]
  },
  {
   "cell_type": "code",
   "execution_count": 147,
   "metadata": {},
   "outputs": [],
   "source": [
    "df5 = df4.drop(['visitor_home_cbgs', 'visitor_home_aggregation'], axis = 1).copy()"
   ]
  },
  {
   "cell_type": "code",
   "execution_count": 148,
   "metadata": {},
   "outputs": [
    {
     "data": {
      "text/plain": [
       "(2063881, 32)"
      ]
     },
     "execution_count": 148,
     "metadata": {},
     "output_type": "execute_result"
    }
   ],
   "source": [
    "df5.shape"
   ]
  },
  {
   "cell_type": "code",
   "execution_count": 149,
   "metadata": {},
   "outputs": [
    {
     "data": {
      "text/plain": [
       "(2058429, 32)"
      ]
     },
     "execution_count": 149,
     "metadata": {},
     "output_type": "execute_result"
    }
   ],
   "source": [
    "# Drop any values without an NAICS code (business code)\n",
    "df6 = df5[df5['sg_c__naics_code'].notna()]\n",
    "df6.shape"
   ]
  },
  {
   "cell_type": "code",
   "execution_count": 150,
   "metadata": {},
   "outputs": [],
   "source": [
    "# Zipcodes for downtown Charleston\n",
    "zipcodes = [29401, 29402, 29403, 29405, 29409, 29413, 29424, 29425]"
   ]
  },
  {
   "cell_type": "code",
   "execution_count": 151,
   "metadata": {},
   "outputs": [],
   "source": [
    "# This subsets the data into just data from downtown Charleston\n",
    "zip = df6['postal_code'].isin(zipcodes)\n",
    "df7 = df6[zip]"
   ]
  },
  {
   "cell_type": "code",
   "execution_count": 152,
   "metadata": {},
   "outputs": [
    {
     "data": {
      "text/plain": [
       "(335769, 32)"
      ]
     },
     "execution_count": 152,
     "metadata": {},
     "output_type": "execute_result"
    }
   ],
   "source": [
    "df7.shape"
   ]
  },
  {
   "cell_type": "code",
   "execution_count": 153,
   "metadata": {},
   "outputs": [],
   "source": [
    "# Subset out MUSC and Roper Hospitals because they are not tourist locations\n",
    "\n",
    "musc = df7['location_name'] != 'Musc Medical Center'\n",
    "roper = df7['location_name'] != 'Roper Hospital'\n",
    "df8 = df7[musc & roper]"
   ]
  },
  {
   "cell_type": "code",
   "execution_count": 154,
   "metadata": {},
   "outputs": [],
   "source": [
    "# Subset out any values above the interstate (outside of the peninsula)\n",
    "df9 = df8[df8['sg_c__latitude'] < 32.803]"
   ]
  },
  {
   "cell_type": "code",
   "execution_count": 162,
   "metadata": {},
   "outputs": [],
   "source": [
    "# We had issues with uploading data with date connected to it into WEKA, so we dropped it from the WEKA upload and removed duplicate data from our set\n",
    "df9[['raw_visit_counts', 'sg_c__latitude', 'sg_c__longitude']].drop_duplicates().to_csv('weka_upload.csv')"
   ]
  }
 ],
 "metadata": {
  "kernelspec": {
   "display_name": "Python 3",
   "language": "python",
   "name": "python3"
  },
  "language_info": {
   "codemirror_mode": {
    "name": "ipython",
    "version": 3
   },
   "file_extension": ".py",
   "mimetype": "text/x-python",
   "name": "python",
   "nbconvert_exporter": "python",
   "pygments_lexer": "ipython3",
   "version": "3.8.3"
  }
 },
 "nbformat": 4,
 "nbformat_minor": 4
}
